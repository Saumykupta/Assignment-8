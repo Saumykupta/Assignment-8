{
  "nbformat": 4,
  "nbformat_minor": 0,
  "metadata": {
    "colab": {
      "provenance": []
    },
    "kernelspec": {
      "name": "python3",
      "display_name": "Python 3"
    },
    "language_info": {
      "name": "python"
    }
  },
  "cells": [
    {
      "cell_type": "markdown",
      "source": [
        "**Question1:**   Is the Python Standard Library included with PyInputPlus?\n",
        "\n",
        "**Ans:** PyInputPlus is not a part of the Python Standard Library, we must install it separately using Pip."
      ],
      "metadata": {
        "id": "-ndyP5FD6VPB"
      }
    },
    {
      "cell_type": "markdown",
      "source": [
        "**Question2.** Why is PyInputPlus commonly imported with import pyinputplus as pypi?\n",
        "\n",
        "Ans: You can import the module with import pyinputplus as pyip so that you can enter a shorter name when calling the module’s functions\n",
        "\n"
      ],
      "metadata": {
        "id": "RnSeJeFt6p2j"
      }
    },
    {
      "cell_type": "markdown",
      "source": [
        "**Question3.** How do you distinguish between inputInt() and inputFloat()?\n",
        "\n",
        "**Ans** The difference is in the data-type when you use the first one the program expects an integer value as input but in the latter it expects a float value i.e number containing a decimal."
      ],
      "metadata": {
        "id": "8VqLcSfd7fnm"
      }
    },
    {
      "cell_type": "markdown",
      "source": [
        "**Question4.** Using PyInputPlus, how do you ensure that the user enters a whole number between 0 and 99?\n",
        "\n",
        "**Ans**  By using pyip.inputint(min=0, max=99)"
      ],
      "metadata": {
        "id": "UWMyUmgE7zY8"
      }
    },
    {
      "cell_type": "markdown",
      "source": [
        "**Question5.** What is transferred to the keyword arguments allowRegexes and blockRegexes?\n",
        "\n",
        "**Ans:**  A list of regex strings that are either explicitly allowed or denied\n",
        "\n"
      ],
      "metadata": {
        "id": "OSB9wtu37_qL"
      }
    },
    {
      "cell_type": "markdown",
      "source": [
        "**Question6.** If a blank input is entered three times, what does inputStr(limit=3) do?\n",
        "\n",
        "**Ans:** The function will raise RetryLimitException."
      ],
      "metadata": {
        "id": "WDaHISJe8Lc_"
      }
    },
    {
      "cell_type": "markdown",
      "source": [
        "**Question7.** If blank input is entered three times, what does inputStr(limit=3, default='hello') do?\n",
        "\n",
        "**Ans:** . The function returns the value 'hello'"
      ],
      "metadata": {
        "id": "yHJkY-rD8V1y"
      }
    },
    {
      "cell_type": "code",
      "source": [],
      "metadata": {
        "id": "o6IpkHVP550e"
      },
      "execution_count": null,
      "outputs": []
    }
  ]
}